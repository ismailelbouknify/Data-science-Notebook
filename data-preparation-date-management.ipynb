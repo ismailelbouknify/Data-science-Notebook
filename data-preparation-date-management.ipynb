{
 "cells": [
  {
   "cell_type": "code",
   "execution_count": 1,
   "id": "dab56634",
   "metadata": {
    "execution": {
     "iopub.execute_input": "2022-07-05T23:16:22.984381Z",
     "iopub.status.busy": "2022-07-05T23:16:22.983508Z",
     "iopub.status.idle": "2022-07-05T23:16:24.110091Z",
     "shell.execute_reply": "2022-07-05T23:16:24.108897Z"
    },
    "papermill": {
     "duration": 1.136519,
     "end_time": "2022-07-05T23:16:24.113197",
     "exception": false,
     "start_time": "2022-07-05T23:16:22.976678",
     "status": "completed"
    },
    "tags": []
   },
   "outputs": [],
   "source": [
    "#importer les biblio\n",
    "import pandas as pd\n",
    "import numpy as np\n",
    "import matplotlib.pyplot as plt\n",
    "import seaborn as sb\n",
    "import statsmodels as sm\n",
    "import string\n",
    "import re\n",
    "import sys\n",
    "# helpful modules\n",
    "import fuzzywuzzy\n",
    "from fuzzywuzzy import process\n",
    "import chardet"
   ]
  },
  {
   "cell_type": "code",
   "execution_count": 2,
   "id": "d7abb3ad",
   "metadata": {
    "execution": {
     "iopub.execute_input": "2022-07-05T23:16:24.123751Z",
     "iopub.status.busy": "2022-07-05T23:16:24.122564Z",
     "iopub.status.idle": "2022-07-05T23:16:24.196054Z",
     "shell.execute_reply": "2022-07-05T23:16:24.195115Z"
    },
    "papermill": {
     "duration": 0.081359,
     "end_time": "2022-07-05T23:16:24.198526",
     "exception": false,
     "start_time": "2022-07-05T23:16:24.117167",
     "status": "completed"
    },
    "tags": []
   },
   "outputs": [],
   "source": [
    "# gestion des dates\n",
    "# read in all our data\n",
    "df1 = pd.read_csv(\"../input/nfl-scores-and-betting-data/spreadspoke_scores.csv\")"
   ]
  },
  {
   "cell_type": "code",
   "execution_count": 3,
   "id": "e97b8fec",
   "metadata": {
    "execution": {
     "iopub.execute_input": "2022-07-05T23:16:24.209087Z",
     "iopub.status.busy": "2022-07-05T23:16:24.208424Z",
     "iopub.status.idle": "2022-07-05T23:16:24.255005Z",
     "shell.execute_reply": "2022-07-05T23:16:24.254162Z"
    },
    "papermill": {
     "duration": 0.055941,
     "end_time": "2022-07-05T23:16:24.258572",
     "exception": false,
     "start_time": "2022-07-05T23:16:24.202631",
     "status": "completed"
    },
    "tags": []
   },
   "outputs": [
    {
     "data": {
      "text/html": [
       "<div>\n",
       "<style scoped>\n",
       "    .dataframe tbody tr th:only-of-type {\n",
       "        vertical-align: middle;\n",
       "    }\n",
       "\n",
       "    .dataframe tbody tr th {\n",
       "        vertical-align: top;\n",
       "    }\n",
       "\n",
       "    .dataframe thead th {\n",
       "        text-align: right;\n",
       "    }\n",
       "</style>\n",
       "<table border=\"1\" class=\"dataframe\">\n",
       "  <thead>\n",
       "    <tr style=\"text-align: right;\">\n",
       "      <th></th>\n",
       "      <th>schedule_date</th>\n",
       "      <th>schedule_season</th>\n",
       "      <th>schedule_week</th>\n",
       "      <th>schedule_playoff</th>\n",
       "      <th>team_home</th>\n",
       "      <th>score_home</th>\n",
       "      <th>score_away</th>\n",
       "      <th>team_away</th>\n",
       "      <th>team_favorite_id</th>\n",
       "      <th>spread_favorite</th>\n",
       "      <th>over_under_line</th>\n",
       "      <th>stadium</th>\n",
       "      <th>stadium_neutral</th>\n",
       "      <th>weather_temperature</th>\n",
       "      <th>weather_wind_mph</th>\n",
       "      <th>weather_humidity</th>\n",
       "      <th>weather_detail</th>\n",
       "    </tr>\n",
       "  </thead>\n",
       "  <tbody>\n",
       "    <tr>\n",
       "      <th>0</th>\n",
       "      <td>9/2/1966</td>\n",
       "      <td>1966</td>\n",
       "      <td>1</td>\n",
       "      <td>False</td>\n",
       "      <td>Miami Dolphins</td>\n",
       "      <td>14.0</td>\n",
       "      <td>23.0</td>\n",
       "      <td>Oakland Raiders</td>\n",
       "      <td>NaN</td>\n",
       "      <td>NaN</td>\n",
       "      <td>NaN</td>\n",
       "      <td>Orange Bowl</td>\n",
       "      <td>False</td>\n",
       "      <td>83.0</td>\n",
       "      <td>6.0</td>\n",
       "      <td>71.0</td>\n",
       "      <td>NaN</td>\n",
       "    </tr>\n",
       "    <tr>\n",
       "      <th>1</th>\n",
       "      <td>9/3/1966</td>\n",
       "      <td>1966</td>\n",
       "      <td>1</td>\n",
       "      <td>False</td>\n",
       "      <td>Houston Oilers</td>\n",
       "      <td>45.0</td>\n",
       "      <td>7.0</td>\n",
       "      <td>Denver Broncos</td>\n",
       "      <td>NaN</td>\n",
       "      <td>NaN</td>\n",
       "      <td>NaN</td>\n",
       "      <td>Rice Stadium</td>\n",
       "      <td>False</td>\n",
       "      <td>81.0</td>\n",
       "      <td>7.0</td>\n",
       "      <td>70.0</td>\n",
       "      <td>NaN</td>\n",
       "    </tr>\n",
       "    <tr>\n",
       "      <th>2</th>\n",
       "      <td>9/4/1966</td>\n",
       "      <td>1966</td>\n",
       "      <td>1</td>\n",
       "      <td>False</td>\n",
       "      <td>San Diego Chargers</td>\n",
       "      <td>27.0</td>\n",
       "      <td>7.0</td>\n",
       "      <td>Buffalo Bills</td>\n",
       "      <td>NaN</td>\n",
       "      <td>NaN</td>\n",
       "      <td>NaN</td>\n",
       "      <td>Balboa Stadium</td>\n",
       "      <td>False</td>\n",
       "      <td>70.0</td>\n",
       "      <td>7.0</td>\n",
       "      <td>82.0</td>\n",
       "      <td>NaN</td>\n",
       "    </tr>\n",
       "    <tr>\n",
       "      <th>3</th>\n",
       "      <td>9/9/1966</td>\n",
       "      <td>1966</td>\n",
       "      <td>2</td>\n",
       "      <td>False</td>\n",
       "      <td>Miami Dolphins</td>\n",
       "      <td>14.0</td>\n",
       "      <td>19.0</td>\n",
       "      <td>New York Jets</td>\n",
       "      <td>NaN</td>\n",
       "      <td>NaN</td>\n",
       "      <td>NaN</td>\n",
       "      <td>Orange Bowl</td>\n",
       "      <td>False</td>\n",
       "      <td>82.0</td>\n",
       "      <td>11.0</td>\n",
       "      <td>78.0</td>\n",
       "      <td>NaN</td>\n",
       "    </tr>\n",
       "    <tr>\n",
       "      <th>4</th>\n",
       "      <td>9/10/1966</td>\n",
       "      <td>1966</td>\n",
       "      <td>1</td>\n",
       "      <td>False</td>\n",
       "      <td>Green Bay Packers</td>\n",
       "      <td>24.0</td>\n",
       "      <td>3.0</td>\n",
       "      <td>Baltimore Colts</td>\n",
       "      <td>NaN</td>\n",
       "      <td>NaN</td>\n",
       "      <td>NaN</td>\n",
       "      <td>Lambeau Field</td>\n",
       "      <td>False</td>\n",
       "      <td>64.0</td>\n",
       "      <td>8.0</td>\n",
       "      <td>62.0</td>\n",
       "      <td>NaN</td>\n",
       "    </tr>\n",
       "    <tr>\n",
       "      <th>...</th>\n",
       "      <td>...</td>\n",
       "      <td>...</td>\n",
       "      <td>...</td>\n",
       "      <td>...</td>\n",
       "      <td>...</td>\n",
       "      <td>...</td>\n",
       "      <td>...</td>\n",
       "      <td>...</td>\n",
       "      <td>...</td>\n",
       "      <td>...</td>\n",
       "      <td>...</td>\n",
       "      <td>...</td>\n",
       "      <td>...</td>\n",
       "      <td>...</td>\n",
       "      <td>...</td>\n",
       "      <td>...</td>\n",
       "      <td>...</td>\n",
       "    </tr>\n",
       "    <tr>\n",
       "      <th>13227</th>\n",
       "      <td>1/23/2022</td>\n",
       "      <td>2021</td>\n",
       "      <td>Division</td>\n",
       "      <td>True</td>\n",
       "      <td>Kansas City Chiefs</td>\n",
       "      <td>42.0</td>\n",
       "      <td>36.0</td>\n",
       "      <td>Buffalo Bills</td>\n",
       "      <td>KC</td>\n",
       "      <td>-2.5</td>\n",
       "      <td>54.0</td>\n",
       "      <td>Arrowhead Stadium</td>\n",
       "      <td>False</td>\n",
       "      <td>35.0</td>\n",
       "      <td>6.0</td>\n",
       "      <td>54.0</td>\n",
       "      <td>NaN</td>\n",
       "    </tr>\n",
       "    <tr>\n",
       "      <th>13228</th>\n",
       "      <td>1/23/2022</td>\n",
       "      <td>2021</td>\n",
       "      <td>Division</td>\n",
       "      <td>True</td>\n",
       "      <td>Tampa Bay Buccaneers</td>\n",
       "      <td>27.0</td>\n",
       "      <td>30.0</td>\n",
       "      <td>Los Angeles Rams</td>\n",
       "      <td>TB</td>\n",
       "      <td>-3.0</td>\n",
       "      <td>48.0</td>\n",
       "      <td>Raymond James Stadium</td>\n",
       "      <td>False</td>\n",
       "      <td>50.0</td>\n",
       "      <td>11.0</td>\n",
       "      <td>69.0</td>\n",
       "      <td>NaN</td>\n",
       "    </tr>\n",
       "    <tr>\n",
       "      <th>13229</th>\n",
       "      <td>1/30/2022</td>\n",
       "      <td>2021</td>\n",
       "      <td>Conference</td>\n",
       "      <td>True</td>\n",
       "      <td>Kansas City Chiefs</td>\n",
       "      <td>24.0</td>\n",
       "      <td>27.0</td>\n",
       "      <td>Cincinnati Bengals</td>\n",
       "      <td>KC</td>\n",
       "      <td>-7.0</td>\n",
       "      <td>54.5</td>\n",
       "      <td>Arrowhead Stadium</td>\n",
       "      <td>False</td>\n",
       "      <td>41.0</td>\n",
       "      <td>4.0</td>\n",
       "      <td>41.0</td>\n",
       "      <td>NaN</td>\n",
       "    </tr>\n",
       "    <tr>\n",
       "      <th>13230</th>\n",
       "      <td>1/30/2022</td>\n",
       "      <td>2021</td>\n",
       "      <td>Conference</td>\n",
       "      <td>True</td>\n",
       "      <td>Los Angeles Rams</td>\n",
       "      <td>20.0</td>\n",
       "      <td>17.0</td>\n",
       "      <td>San Francisco 49ers</td>\n",
       "      <td>LAR</td>\n",
       "      <td>-3.5</td>\n",
       "      <td>46.0</td>\n",
       "      <td>SoFi Stadium</td>\n",
       "      <td>False</td>\n",
       "      <td>72.0</td>\n",
       "      <td>0.0</td>\n",
       "      <td>NaN</td>\n",
       "      <td>DOME</td>\n",
       "    </tr>\n",
       "    <tr>\n",
       "      <th>13231</th>\n",
       "      <td>2/13/2022</td>\n",
       "      <td>2021</td>\n",
       "      <td>Superbowl</td>\n",
       "      <td>True</td>\n",
       "      <td>Los Angeles Rams</td>\n",
       "      <td>NaN</td>\n",
       "      <td>NaN</td>\n",
       "      <td>Cincinnati Bengals</td>\n",
       "      <td>LAR</td>\n",
       "      <td>-4.0</td>\n",
       "      <td>48.5</td>\n",
       "      <td>SoFi Stadium</td>\n",
       "      <td>True</td>\n",
       "      <td>72.0</td>\n",
       "      <td>0.0</td>\n",
       "      <td>NaN</td>\n",
       "      <td>DOME</td>\n",
       "    </tr>\n",
       "  </tbody>\n",
       "</table>\n",
       "<p>13232 rows × 17 columns</p>\n",
       "</div>"
      ],
      "text/plain": [
       "      schedule_date  schedule_season schedule_week  schedule_playoff  \\\n",
       "0          9/2/1966             1966             1             False   \n",
       "1          9/3/1966             1966             1             False   \n",
       "2          9/4/1966             1966             1             False   \n",
       "3          9/9/1966             1966             2             False   \n",
       "4         9/10/1966             1966             1             False   \n",
       "...             ...              ...           ...               ...   \n",
       "13227     1/23/2022             2021      Division              True   \n",
       "13228     1/23/2022             2021      Division              True   \n",
       "13229     1/30/2022             2021    Conference              True   \n",
       "13230     1/30/2022             2021    Conference              True   \n",
       "13231     2/13/2022             2021     Superbowl              True   \n",
       "\n",
       "                  team_home  score_home  score_away            team_away  \\\n",
       "0            Miami Dolphins        14.0        23.0      Oakland Raiders   \n",
       "1            Houston Oilers        45.0         7.0       Denver Broncos   \n",
       "2        San Diego Chargers        27.0         7.0        Buffalo Bills   \n",
       "3            Miami Dolphins        14.0        19.0        New York Jets   \n",
       "4         Green Bay Packers        24.0         3.0      Baltimore Colts   \n",
       "...                     ...         ...         ...                  ...   \n",
       "13227    Kansas City Chiefs        42.0        36.0        Buffalo Bills   \n",
       "13228  Tampa Bay Buccaneers        27.0        30.0     Los Angeles Rams   \n",
       "13229    Kansas City Chiefs        24.0        27.0   Cincinnati Bengals   \n",
       "13230      Los Angeles Rams        20.0        17.0  San Francisco 49ers   \n",
       "13231      Los Angeles Rams         NaN         NaN   Cincinnati Bengals   \n",
       "\n",
       "      team_favorite_id  spread_favorite over_under_line  \\\n",
       "0                  NaN              NaN             NaN   \n",
       "1                  NaN              NaN             NaN   \n",
       "2                  NaN              NaN             NaN   \n",
       "3                  NaN              NaN             NaN   \n",
       "4                  NaN              NaN             NaN   \n",
       "...                ...              ...             ...   \n",
       "13227               KC             -2.5            54.0   \n",
       "13228               TB             -3.0            48.0   \n",
       "13229               KC             -7.0            54.5   \n",
       "13230              LAR             -3.5            46.0   \n",
       "13231              LAR             -4.0            48.5   \n",
       "\n",
       "                     stadium  stadium_neutral  weather_temperature  \\\n",
       "0                Orange Bowl            False                 83.0   \n",
       "1               Rice Stadium            False                 81.0   \n",
       "2             Balboa Stadium            False                 70.0   \n",
       "3                Orange Bowl            False                 82.0   \n",
       "4              Lambeau Field            False                 64.0   \n",
       "...                      ...              ...                  ...   \n",
       "13227      Arrowhead Stadium            False                 35.0   \n",
       "13228  Raymond James Stadium            False                 50.0   \n",
       "13229      Arrowhead Stadium            False                 41.0   \n",
       "13230           SoFi Stadium            False                 72.0   \n",
       "13231           SoFi Stadium             True                 72.0   \n",
       "\n",
       "       weather_wind_mph  weather_humidity weather_detail  \n",
       "0                   6.0              71.0            NaN  \n",
       "1                   7.0              70.0            NaN  \n",
       "2                   7.0              82.0            NaN  \n",
       "3                  11.0              78.0            NaN  \n",
       "4                   8.0              62.0            NaN  \n",
       "...                 ...               ...            ...  \n",
       "13227               6.0              54.0            NaN  \n",
       "13228              11.0              69.0            NaN  \n",
       "13229               4.0              41.0            NaN  \n",
       "13230               0.0               NaN           DOME  \n",
       "13231               0.0               NaN           DOME  \n",
       "\n",
       "[13232 rows x 17 columns]"
      ]
     },
     "execution_count": 3,
     "metadata": {},
     "output_type": "execute_result"
    }
   ],
   "source": [
    "df1"
   ]
  },
  {
   "cell_type": "code",
   "execution_count": 4,
   "id": "ecd39ee4",
   "metadata": {
    "execution": {
     "iopub.execute_input": "2022-07-05T23:16:24.269114Z",
     "iopub.status.busy": "2022-07-05T23:16:24.268363Z",
     "iopub.status.idle": "2022-07-05T23:16:24.278996Z",
     "shell.execute_reply": "2022-07-05T23:16:24.277789Z"
    },
    "papermill": {
     "duration": 0.018512,
     "end_time": "2022-07-05T23:16:24.281473",
     "exception": false,
     "start_time": "2022-07-05T23:16:24.262961",
     "status": "completed"
    },
    "tags": []
   },
   "outputs": [
    {
     "name": "stdout",
     "output_type": "stream",
     "text": [
      "0     9/2/1966\n",
      "1     9/3/1966\n",
      "2     9/4/1966\n",
      "3     9/9/1966\n",
      "4    9/10/1966\n",
      "Name: schedule_date, dtype: object\n"
     ]
    }
   ],
   "source": [
    "print(df1['schedule_date'].head())"
   ]
  },
  {
   "cell_type": "code",
   "execution_count": 5,
   "id": "f3196265",
   "metadata": {
    "execution": {
     "iopub.execute_input": "2022-07-05T23:16:24.292582Z",
     "iopub.status.busy": "2022-07-05T23:16:24.292148Z",
     "iopub.status.idle": "2022-07-05T23:16:24.299218Z",
     "shell.execute_reply": "2022-07-05T23:16:24.297980Z"
    },
    "papermill": {
     "duration": 0.015726,
     "end_time": "2022-07-05T23:16:24.301994",
     "exception": false,
     "start_time": "2022-07-05T23:16:24.286268",
     "status": "completed"
    },
    "tags": []
   },
   "outputs": [
    {
     "data": {
      "text/plain": [
       "dtype('O')"
      ]
     },
     "execution_count": 5,
     "metadata": {},
     "output_type": "execute_result"
    }
   ],
   "source": [
    "# check the data type of our date column\n",
    "df1['schedule_date'].dtype"
   ]
  },
  {
   "cell_type": "code",
   "execution_count": 6,
   "id": "62f69222",
   "metadata": {
    "execution": {
     "iopub.execute_input": "2022-07-05T23:16:24.313265Z",
     "iopub.status.busy": "2022-07-05T23:16:24.312470Z",
     "iopub.status.idle": "2022-07-05T23:16:24.339001Z",
     "shell.execute_reply": "2022-07-05T23:16:24.337847Z"
    },
    "papermill": {
     "duration": 0.03499,
     "end_time": "2022-07-05T23:16:24.341420",
     "exception": false,
     "start_time": "2022-07-05T23:16:24.306430",
     "status": "completed"
    },
    "tags": []
   },
   "outputs": [],
   "source": [
    "# create a new column, date_parsed, with the parsed dates\n",
    "df1['date_parsed'] = pd.to_datetime(df1['schedule_date'], format=\"%m/%d/%Y\")"
   ]
  },
  {
   "cell_type": "code",
   "execution_count": 7,
   "id": "056012c1",
   "metadata": {
    "execution": {
     "iopub.execute_input": "2022-07-05T23:16:24.352132Z",
     "iopub.status.busy": "2022-07-05T23:16:24.351717Z",
     "iopub.status.idle": "2022-07-05T23:16:24.358374Z",
     "shell.execute_reply": "2022-07-05T23:16:24.357185Z"
    },
    "papermill": {
     "duration": 0.015576,
     "end_time": "2022-07-05T23:16:24.361542",
     "exception": false,
     "start_time": "2022-07-05T23:16:24.345966",
     "status": "completed"
    },
    "tags": []
   },
   "outputs": [
    {
     "name": "stdout",
     "output_type": "stream",
     "text": [
      "0   1966-09-02\n",
      "1   1966-09-03\n",
      "2   1966-09-04\n",
      "3   1966-09-09\n",
      "4   1966-09-10\n",
      "Name: date_parsed, dtype: datetime64[ns]\n"
     ]
    }
   ],
   "source": [
    "print(df1['date_parsed'].head())"
   ]
  },
  {
   "cell_type": "code",
   "execution_count": 8,
   "id": "4cc95c2e",
   "metadata": {
    "execution": {
     "iopub.execute_input": "2022-07-05T23:16:24.373531Z",
     "iopub.status.busy": "2022-07-05T23:16:24.373136Z",
     "iopub.status.idle": "2022-07-05T23:16:24.394597Z",
     "shell.execute_reply": "2022-07-05T23:16:24.393346Z"
    },
    "papermill": {
     "duration": 0.030194,
     "end_time": "2022-07-05T23:16:24.397071",
     "exception": false,
     "start_time": "2022-07-05T23:16:24.366877",
     "status": "completed"
    },
    "tags": []
   },
   "outputs": [],
   "source": [
    "df1['date_parsed'] = pd.to_datetime(df1['schedule_date'], infer_datetime_format=True)"
   ]
  },
  {
   "cell_type": "code",
   "execution_count": 9,
   "id": "37119f77",
   "metadata": {
    "execution": {
     "iopub.execute_input": "2022-07-05T23:16:24.407609Z",
     "iopub.status.busy": "2022-07-05T23:16:24.407227Z",
     "iopub.status.idle": "2022-07-05T23:16:24.416998Z",
     "shell.execute_reply": "2022-07-05T23:16:24.415955Z"
    },
    "papermill": {
     "duration": 0.017663,
     "end_time": "2022-07-05T23:16:24.419131",
     "exception": false,
     "start_time": "2022-07-05T23:16:24.401468",
     "status": "completed"
    },
    "tags": []
   },
   "outputs": [
    {
     "data": {
      "text/plain": [
       "0     2\n",
       "1     3\n",
       "2     4\n",
       "3     9\n",
       "4    10\n",
       "Name: date_parsed, dtype: int64"
      ]
     },
     "execution_count": 9,
     "metadata": {},
     "output_type": "execute_result"
    }
   ],
   "source": [
    "day_of_month_df1 = df1['date_parsed'].dt.day\n",
    "day_of_month_df1.head()"
   ]
  },
  {
   "cell_type": "code",
   "execution_count": 10,
   "id": "0cf05f3f",
   "metadata": {
    "execution": {
     "iopub.execute_input": "2022-07-05T23:16:24.430657Z",
     "iopub.status.busy": "2022-07-05T23:16:24.429494Z",
     "iopub.status.idle": "2022-07-05T23:16:24.690753Z",
     "shell.execute_reply": "2022-07-05T23:16:24.689665Z"
    },
    "papermill": {
     "duration": 0.269317,
     "end_time": "2022-07-05T23:16:24.693180",
     "exception": false,
     "start_time": "2022-07-05T23:16:24.423863",
     "status": "completed"
    },
    "tags": []
   },
   "outputs": [
    {
     "name": "stderr",
     "output_type": "stream",
     "text": [
      "/opt/conda/lib/python3.7/site-packages/seaborn/distributions.py:2619: FutureWarning: `distplot` is a deprecated function and will be removed in a future version. Please adapt your code to use either `displot` (a figure-level function with similar flexibility) or `histplot` (an axes-level function for histograms).\n",
      "  warnings.warn(msg, FutureWarning)\n"
     ]
    },
    {
     "data": {
      "text/plain": [
       "<AxesSubplot:xlabel='date_parsed'>"
      ]
     },
     "execution_count": 10,
     "metadata": {},
     "output_type": "execute_result"
    },
    {
     "data": {
      "image/png": "[encoded data removed]",
      "text/plain": [
       "<Figure size 432x288 with 1 Axes>"
      ]
     },
     "metadata": {
      "needs_background": "light"
     },
     "output_type": "display_data"
    }
   ],
   "source": [
    "# remove na's\n",
    "day_of_month_df1 = day_of_month_df1.dropna()\n",
    "\n",
    "# plot the day of the month\n",
    "sb.distplot(day_of_month_df1, kde=False, bins=31)"
   ]
  }
 ],
 "metadata": {
  "kernelspec": {
   "display_name": "Python 3",
   "language": "python",
   "name": "python3"
  },
  "language_info": {
   "codemirror_mode": {
    "name": "ipython",
    "version": 3
   },
   "file_extension": ".py",
   "mimetype": "text/x-python",
   "name": "python",
   "nbconvert_exporter": "python",
   "pygments_lexer": "ipython3",
   "version": "3.7.12"
  },
  "papermill": {
   "default_parameters": {},
   "duration": 12.187015,
   "end_time": "2022-07-05T23:16:25.422774",
   "environment_variables": {},
   "exception": null,
   "input_path": "__notebook__.ipynb",
   "output_path": "__notebook__.ipynb",
   "parameters": {},
   "start_time": "2022-07-05T23:16:13.235759",
   "version": "2.3.4"
  }
 },
 "nbformat": 4,
 "nbformat_minor": 5
}
