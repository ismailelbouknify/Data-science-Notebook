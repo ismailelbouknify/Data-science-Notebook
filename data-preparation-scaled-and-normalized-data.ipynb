{
 "cells": [
  {
   "cell_type": "code",
   "execution_count": 1,
   "id": "fba54366",
   "metadata": {
    "execution": {
     "iopub.execute_input": "2022-07-05T23:29:57.216898Z",
     "iopub.status.busy": "2022-07-05T23:29:57.216461Z",
     "iopub.status.idle": "2022-07-05T23:29:59.368635Z",
     "shell.execute_reply": "2022-07-05T23:29:59.367467Z"
    },
    "papermill": {
     "duration": 2.162241,
     "end_time": "2022-07-05T23:29:59.371372",
     "exception": false,
     "start_time": "2022-07-05T23:29:57.209131",
     "status": "completed"
    },
    "tags": []
   },
   "outputs": [],
   "source": [
    "import pandas as pd\n",
    "import numpy as np\n",
    "import matplotlib.pyplot as plt\n",
    "import seaborn as sb\n",
    "# text/file processing libraries\n",
    "import string\n",
    "import re\n",
    "import sys\n",
    "from nltk.corpus import stopwords\n",
    "#from wordcloud import STOPWORDS\n",
    "from itertools import chain\n",
    "# warnings\n",
    "import warnings\n",
    "import statsmodels as sm\n",
    "# for Box-Cox Transformation\n",
    "from scipy import stats\n",
    "\n",
    "# for min_max scaling\n",
    "from mlxtend.preprocessing import minmax_scaling\n",
    "warnings.filterwarnings('ignore')\n",
    "# set seed for reproducibility\n",
    "np.random.seed(0)\n",
    "\n",
    "from imblearn.over_sampling import RandomOverSampler\n",
    "from imblearn.under_sampling import RandomUnderSampler\n",
    "from sklearn.model_selection import train_test_split"
   ]
  },
  {
   "cell_type": "code",
   "execution_count": 2,
   "id": "afc44d36",
   "metadata": {
    "execution": {
     "iopub.execute_input": "2022-07-05T23:29:59.383519Z",
     "iopub.status.busy": "2022-07-05T23:29:59.382342Z",
     "iopub.status.idle": "2022-07-05T23:30:12.923887Z",
     "shell.execute_reply": "2022-07-05T23:30:12.922428Z"
    },
    "papermill": {
     "duration": 13.550121,
     "end_time": "2022-07-05T23:30:12.926846",
     "exception": false,
     "start_time": "2022-07-05T23:29:59.376725",
     "status": "completed"
    },
    "tags": []
   },
   "outputs": [
    {
     "name": "stdout",
     "output_type": "stream",
     "text": [
      "Collecting openpyxl\r\n",
      "  Downloading openpyxl-3.0.10-py2.py3-none-any.whl (242 kB)\r\n",
      "\u001b[2K     \u001b[90m━━━━━━━━━━━━━━━━━━━━━━━━━━━━━━━━━━━━━━━\u001b[0m \u001b[32m242.1/242.1 kB\u001b[0m \u001b[31m1.3 MB/s\u001b[0m eta \u001b[36m0:00:00\u001b[0m\r\n",
      "\u001b[?25hCollecting et-xmlfile\r\n",
      "  Downloading et_xmlfile-1.1.0-py3-none-any.whl (4.7 kB)\r\n",
      "Installing collected packages: et-xmlfile, openpyxl\r\n",
      "Successfully installed et-xmlfile-1.1.0 openpyxl-3.0.10\r\n",
      "\u001b[33mWARNING: Running pip as the 'root' user can result in broken permissions and conflicting behaviour with the system package manager. It is recommended to use a virtual environment instead: https://pip.pypa.io/warnings/venv\u001b[0m\u001b[33m\r\n",
      "\u001b[0m"
     ]
    }
   ],
   "source": [
    "!pip install openpyxl"
   ]
  },
  {
   "cell_type": "code",
   "execution_count": 3,
   "id": "4df1b7a9",
   "metadata": {
    "execution": {
     "iopub.execute_input": "2022-07-05T23:30:12.939078Z",
     "iopub.status.busy": "2022-07-05T23:30:12.938692Z",
     "iopub.status.idle": "2022-07-05T23:30:14.360311Z",
     "shell.execute_reply": "2022-07-05T23:30:14.359267Z"
    },
    "papermill": {
     "duration": 1.431404,
     "end_time": "2022-07-05T23:30:14.363221",
     "exception": false,
     "start_time": "2022-07-05T23:30:12.931817",
     "status": "completed"
    },
    "tags": []
   },
   "outputs": [],
   "source": [
    "df = pd.read_excel(\"../input/clientbank/client_bank.xlsx\")\n",
    "np.random.seed(0)"
   ]
  },
  {
   "cell_type": "code",
   "execution_count": 4,
   "id": "1c71a4f4",
   "metadata": {
    "execution": {
     "iopub.execute_input": "2022-07-05T23:30:14.374700Z",
     "iopub.status.busy": "2022-07-05T23:30:14.374295Z",
     "iopub.status.idle": "2022-07-05T23:30:14.404653Z",
     "shell.execute_reply": "2022-07-05T23:30:14.403769Z"
    },
    "papermill": {
     "duration": 0.039178,
     "end_time": "2022-07-05T23:30:14.407308",
     "exception": false,
     "start_time": "2022-07-05T23:30:14.368130",
     "status": "completed"
    },
    "tags": []
   },
   "outputs": [
    {
     "name": "stdout",
     "output_type": "stream",
     "text": [
      "<class 'pandas.core.frame.DataFrame'>\n",
      "RangeIndex: 2000 entries, 0 to 1999\n",
      "Data columns (total 31 columns):\n",
      " #   Column                           Non-Null Count  Dtype  \n",
      "---  ------                           --------------  -----  \n",
      " 0   Age                              2000 non-null   int64  \n",
      " 1   Months as a Customer             2000 non-null   int64  \n",
      " 2   Number of Products               2000 non-null   int64  \n",
      " 3   RFM Score                        693 non-null    float64\n",
      " 4   Average Balance Feed Index       695 non-null    float64\n",
      " 5   Number of Transactions           2000 non-null   int64  \n",
      " 6   Personal Debt to Equity Ratio    2000 non-null   int64  \n",
      " 7   Months Current Account           2000 non-null   int64  \n",
      " 8   Number of Loan Accounts          2000 non-null   int64  \n",
      " 9   Customer ID                      2000 non-null   int64  \n",
      " 10  Has Bad Payment Record           2000 non-null   int64  \n",
      " 11  Members Within Household         2000 non-null   int64  \n",
      " 12  Number of Call Center Contacts   2000 non-null   int64  \n",
      " 13  Gender                           2000 non-null   object \n",
      " 14  Marital Status                   2000 non-null   object \n",
      " 15  Age Youngest Child               2000 non-null   int64  \n",
      " 16  Number of Workers in Household   2000 non-null   int64  \n",
      " 17  Percentage White Collar Workers  2000 non-null   int64  \n",
      " 18  Household Debt to Equity Ratio   2000 non-null   int64  \n",
      " 19  Income                           2000 non-null   int64  \n",
      " 20  Weeks Since Last Offer           2000 non-null   int64  \n",
      " 21  Homeowner                        2000 non-null   object \n",
      " 22  Accepted Personal Loan           1916 non-null   object \n",
      " 23  Accepted Retention               2000 non-null   object \n",
      " 24  Accepted Home Equity Loan        2000 non-null   object \n",
      " 25  Accepted Credit Card             2000 non-null   object \n",
      " 26  Annual value                     1475 non-null   float64\n",
      " 27  Interested in Personal Loan      2000 non-null   object \n",
      " 28  Interested in Retention          2000 non-null   object \n",
      " 29  Interested in Home Equity Loan   2000 non-null   object \n",
      " 30  Interested in Credit Card        2000 non-null   object \n",
      "dtypes: float64(3), int64(17), object(11)\n",
      "memory usage: 484.5+ KB\n"
     ]
    }
   ],
   "source": [
    "df.info()"
   ]
  },
  {
   "cell_type": "code",
   "execution_count": 5,
   "id": "7b51992e",
   "metadata": {
    "execution": {
     "iopub.execute_input": "2022-07-05T23:30:14.419666Z",
     "iopub.status.busy": "2022-07-05T23:30:14.418391Z",
     "iopub.status.idle": "2022-07-05T23:30:14.427108Z",
     "shell.execute_reply": "2022-07-05T23:30:14.425971Z"
    },
    "papermill": {
     "duration": 0.017283,
     "end_time": "2022-07-05T23:30:14.429630",
     "exception": false,
     "start_time": "2022-07-05T23:30:14.412347",
     "status": "completed"
    },
    "tags": []
   },
   "outputs": [],
   "source": [
    "#preparation des donnees \n",
    "y = df.iloc[:,-1]\n",
    "#X (les autres) sont les variables qui précèdent la dernière\n",
    "X= df.iloc[:,:-1]"
   ]
  },
  {
   "cell_type": "code",
   "execution_count": 6,
   "id": "7e302f60",
   "metadata": {
    "execution": {
     "iopub.execute_input": "2022-07-05T23:30:14.441559Z",
     "iopub.status.busy": "2022-07-05T23:30:14.440853Z",
     "iopub.status.idle": "2022-07-05T23:30:14.641102Z",
     "shell.execute_reply": "2022-07-05T23:30:14.639986Z"
    },
    "papermill": {
     "duration": 0.209107,
     "end_time": "2022-07-05T23:30:14.643639",
     "exception": false,
     "start_time": "2022-07-05T23:30:14.434532",
     "status": "completed"
    },
    "tags": []
   },
   "outputs": [
    {
     "data": {
      "text/plain": [
       "<AxesSubplot:xlabel='Interested in Credit Card', ylabel='count'>"
      ]
     },
     "execution_count": 6,
     "metadata": {},
     "output_type": "execute_result"
    },
    {
     "data": {
      "image/png": "[encoded data removed]",
      "text/plain": [
       "<Figure size 432x288 with 1 Axes>"
      ]
     },
     "metadata": {
      "needs_background": "light"
     },
     "output_type": "display_data"
    }
   ],
   "source": [
    "sb.countplot(x=y,data=X)"
   ]
  },
  {
   "cell_type": "code",
   "execution_count": 7,
   "id": "7939bf13",
   "metadata": {
    "execution": {
     "iopub.execute_input": "2022-07-05T23:30:14.656631Z",
     "iopub.status.busy": "2022-07-05T23:30:14.655600Z",
     "iopub.status.idle": "2022-07-05T23:30:14.705513Z",
     "shell.execute_reply": "2022-07-05T23:30:14.704103Z"
    },
    "papermill": {
     "duration": 0.059889,
     "end_time": "2022-07-05T23:30:14.708768",
     "exception": false,
     "start_time": "2022-07-05T23:30:14.648879",
     "status": "completed"
    },
    "tags": []
   },
   "outputs": [
    {
     "name": "stdout",
     "output_type": "stream",
     "text": [
      "(2504, 30)\n",
      "(1058, 30)\n"
     ]
    }
   ],
   "source": [
    "# Division de la bd\n",
    "x_train,x_test,y_train,y_test=train_test_split(X,y,test_size=0.3,random_state=0)\n",
    "# Sur-échantillonnage\n",
    "rOs = RandomOverSampler()\n",
    "X_ro, y_ro = rOs.fit_resample(x_train, y_train)\n",
    "x_rtest, y_rtest = rOs.fit_resample(x_test, y_test)\n",
    "print(X_ro.shape)\n",
    "print(x_rtest.shape)"
   ]
  },
  {
   "cell_type": "code",
   "execution_count": 8,
   "id": "2926b1cc",
   "metadata": {
    "execution": {
     "iopub.execute_input": "2022-07-05T23:30:14.721468Z",
     "iopub.status.busy": "2022-07-05T23:30:14.721079Z",
     "iopub.status.idle": "2022-07-05T23:30:14.839974Z",
     "shell.execute_reply": "2022-07-05T23:30:14.838830Z"
    },
    "papermill": {
     "duration": 0.128302,
     "end_time": "2022-07-05T23:30:14.842401",
     "exception": false,
     "start_time": "2022-07-05T23:30:14.714099",
     "status": "completed"
    },
    "tags": []
   },
   "outputs": [
    {
     "data": {
      "text/plain": [
       "<AxesSubplot:xlabel='Interested in Credit Card', ylabel='count'>"
      ]
     },
     "execution_count": 8,
     "metadata": {},
     "output_type": "execute_result"
    },
    {
     "data": {
      "image/png": "[encoded data removed]",
      "text/plain": [
       "<Figure size 432x288 with 1 Axes>"
      ]
     },
     "metadata": {
      "needs_background": "light"
     },
     "output_type": "display_data"
    }
   ],
   "source": [
    "sb.countplot(x=y_ro,data=X_ro)"
   ]
  },
  {
   "cell_type": "code",
   "execution_count": 9,
   "id": "210518a7",
   "metadata": {
    "execution": {
     "iopub.execute_input": "2022-07-05T23:30:14.856101Z",
     "iopub.status.busy": "2022-07-05T23:30:14.855397Z",
     "iopub.status.idle": "2022-07-05T23:30:15.297071Z",
     "shell.execute_reply": "2022-07-05T23:30:15.295770Z"
    },
    "papermill": {
     "duration": 0.45133,
     "end_time": "2022-07-05T23:30:15.299381",
     "exception": false,
     "start_time": "2022-07-05T23:30:14.848051",
     "status": "completed"
    },
    "tags": []
   },
   "outputs": [
    {
     "data": {
      "text/plain": [
       "Text(0.5, 1.0, 'Scaled data')"
      ]
     },
     "execution_count": 9,
     "metadata": {},
     "output_type": "execute_result"
    },
    {
     "data": {
      "image/png": "[encoded data removed]",
      "text/plain": [
       "<Figure size 1080x216 with 2 Axes>"
      ]
     },
     "metadata": {
      "needs_background": "light"
     },
     "output_type": "display_data"
    }
   ],
   "source": [
    "original_data = pd.DataFrame(df[\"RFM Score\"])\n",
    "\n",
    "# scale the goals from 0 to 1\n",
    "scaled_data = minmax_scaling(original_data, columns=['RFM Score'])\n",
    "\n",
    "# plot the original & scaled data together to compare\n",
    "fig, ax=plt.subplots(1,2,figsize=(15,3))\n",
    "sb.distplot(df[\"RFM Score\"], ax=ax[0])\n",
    "ax[0].set_title(\"Original Data\")\n",
    "sb.distplot(scaled_data, ax=ax[1])\n",
    "ax[1].set_title(\"Scaled data\")"
   ]
  },
  {
   "cell_type": "code",
   "execution_count": 10,
   "id": "35650c06",
   "metadata": {
    "execution": {
     "iopub.execute_input": "2022-07-05T23:30:15.314573Z",
     "iopub.status.busy": "2022-07-05T23:30:15.313317Z",
     "iopub.status.idle": "2022-07-05T23:30:15.700110Z",
     "shell.execute_reply": "2022-07-05T23:30:15.699223Z"
    },
    "papermill": {
     "duration": 0.396648,
     "end_time": "2022-07-05T23:30:15.702435",
     "exception": false,
     "start_time": "2022-07-05T23:30:15.305787",
     "status": "completed"
    },
    "tags": []
   },
   "outputs": [
    {
     "data": {
      "text/plain": [
       "Text(0.5, 1.0, 'Normalized data')"
      ]
     },
     "execution_count": 10,
     "metadata": {},
     "output_type": "execute_result"
    },
    {
     "data": {
      "image/png": "[encoded data removed]",
      "text/plain": [
       "<Figure size 1080x216 with 2 Axes>"
      ]
     },
     "metadata": {
      "needs_background": "light"
     },
     "output_type": "display_data"
    }
   ],
   "source": [
    "# get the index of all positive pledges (Box-Cox only takes positive values)\n",
    "index_of_positive_pledges = df[\"RFM Score\"] > 0\n",
    "\n",
    "# get only positive pledges (using their indexes)\n",
    "positive_pledges = df[\"RFM Score\"].loc[index_of_positive_pledges]\n",
    "\n",
    "# normalize the pledges (w/ Box-Cox)\n",
    "normalized_pledges = pd.Series(stats.boxcox(positive_pledges)[0], \n",
    "                               name='RFM Score', index=positive_pledges.index)\n",
    "\n",
    "# plot both together to compare\n",
    "fig, ax=plt.subplots(1,2,figsize=(15,3))\n",
    "sb.distplot(positive_pledges, ax=ax[0])\n",
    "ax[0].set_title(\"Original Data\")\n",
    "sb.distplot(normalized_pledges, ax=ax[1])\n",
    "ax[1].set_title(\"Normalized data\")"
   ]
  },
  {
   "cell_type": "code",
   "execution_count": 11,
   "id": "cd3919b9",
   "metadata": {
    "execution": {
     "iopub.execute_input": "2022-07-05T23:30:15.718574Z",
     "iopub.status.busy": "2022-07-05T23:30:15.717778Z",
     "iopub.status.idle": "2022-07-05T23:30:15.729379Z",
     "shell.execute_reply": "2022-07-05T23:30:15.728087Z"
    },
    "papermill": {
     "duration": 0.023331,
     "end_time": "2022-07-05T23:30:15.732785",
     "exception": false,
     "start_time": "2022-07-05T23:30:15.709454",
     "status": "completed"
    },
    "tags": []
   },
   "outputs": [
    {
     "name": "stdout",
     "output_type": "stream",
     "text": [
      "Original data\n",
      "Preview:\n",
      " 0     9.82899\n",
      "1    11.80799\n",
      "5    11.81900\n",
      "8     7.87900\n",
      "9     9.91999\n",
      "Name: RFM Score, dtype: float64\n",
      "Minimum value: 7.279 \n",
      "Maximum value: 35.761555\n",
      "______________________________\n",
      "\n",
      "Normalized data\n",
      "Preview:\n",
      " 0    0.541274\n",
      "1    0.543718\n",
      "5    0.543729\n",
      "8    0.537008\n",
      "9    0.541417\n",
      "Name: RFM Score, dtype: float64\n",
      "Minimum value: 0.5350125221000186 \n",
      "Maximum value: 0.5490683109891858\n"
     ]
    }
   ],
   "source": [
    "print('Original data\\nPreview:\\n', positive_pledges.head())\n",
    "print('Minimum value:', float(positive_pledges.min()),\n",
    "      '\\nMaximum value:', float(positive_pledges.max()))\n",
    "print('_'*30)\n",
    "\n",
    "print('\\nNormalized data\\nPreview:\\n', normalized_pledges.head())\n",
    "print('Minimum value:', float(normalized_pledges.min()),\n",
    "      '\\nMaximum value:', float(normalized_pledges.max()))"
   ]
  },
  {
   "cell_type": "code",
   "execution_count": null,
   "id": "099a6984",
   "metadata": {
    "papermill": {
     "duration": 0.00678,
     "end_time": "2022-07-05T23:30:15.747478",
     "exception": false,
     "start_time": "2022-07-05T23:30:15.740698",
     "status": "completed"
    },
    "tags": []
   },
   "outputs": [],
   "source": []
  }
 ],
 "metadata": {
  "kernelspec": {
   "display_name": "Python 3",
   "language": "python",
   "name": "python3"
  },
  "language_info": {
   "codemirror_mode": {
    "name": "ipython",
    "version": 3
   },
   "file_extension": ".py",
   "mimetype": "text/x-python",
   "name": "python",
   "nbconvert_exporter": "python",
   "pygments_lexer": "ipython3",
   "version": "3.7.12"
  },
  "papermill": {
   "default_parameters": {},
   "duration": 29.276765,
   "end_time": "2022-07-05T23:30:16.576776",
   "environment_variables": {},
   "exception": null,
   "input_path": "__notebook__.ipynb",
   "output_path": "__notebook__.ipynb",
   "parameters": {},
   "start_time": "2022-07-05T23:29:47.300011",
   "version": "2.3.4"
  }
 },
 "nbformat": 4,
 "nbformat_minor": 5
}
