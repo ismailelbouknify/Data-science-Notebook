{
 "cells": [
  {
   "cell_type": "code",
   "execution_count": 1,
   "id": "067c62ad",
   "metadata": {
    "execution": {
     "iopub.execute_input": "2022-07-05T22:45:38.648574Z",
     "iopub.status.busy": "2022-07-05T22:45:38.647596Z",
     "iopub.status.idle": "2022-07-05T22:45:39.857368Z",
     "shell.execute_reply": "2022-07-05T22:45:39.856340Z"
    },
    "papermill": {
     "duration": 1.218093,
     "end_time": "2022-07-05T22:45:39.860000",
     "exception": false,
     "start_time": "2022-07-05T22:45:38.641907",
     "status": "completed"
    },
    "tags": []
   },
   "outputs": [],
   "source": [
    "#importer les biblio\n",
    "import pandas as pd\n",
    "import numpy as np\n",
    "import matplotlib.pyplot as plt\n",
    "import seaborn as sb\n",
    "import statsmodels as sm\n",
    "import string\n",
    "import re\n",
    "import sys\n",
    "# helpful modules\n",
    "import fuzzywuzzy\n",
    "from fuzzywuzzy import process\n",
    "import chardet"
   ]
  },
  {
   "cell_type": "code",
   "execution_count": 2,
   "id": "8abc2c86",
   "metadata": {
    "execution": {
     "iopub.execute_input": "2022-07-05T22:45:39.868248Z",
     "iopub.status.busy": "2022-07-05T22:45:39.867889Z",
     "iopub.status.idle": "2022-07-05T22:45:39.896634Z",
     "shell.execute_reply": "2022-07-05T22:45:39.895462Z"
    },
    "papermill": {
     "duration": 0.035844,
     "end_time": "2022-07-05T22:45:39.899383",
     "exception": false,
     "start_time": "2022-07-05T22:45:39.863539",
     "status": "completed"
    },
    "tags": []
   },
   "outputs": [],
   "source": [
    "# read in all our data\n",
    "df = pd.read_csv(\"../input/pakistan-intellectual-capital/pakistan_intellectual_capital.csv\")"
   ]
  },
  {
   "cell_type": "code",
   "execution_count": 3,
   "id": "e956bed4",
   "metadata": {
    "execution": {
     "iopub.execute_input": "2022-07-05T22:45:39.908029Z",
     "iopub.status.busy": "2022-07-05T22:45:39.907296Z",
     "iopub.status.idle": "2022-07-05T22:45:39.929476Z",
     "shell.execute_reply": "2022-07-05T22:45:39.928425Z"
    },
    "papermill": {
     "duration": 0.029033,
     "end_time": "2022-07-05T22:45:39.931861",
     "exception": false,
     "start_time": "2022-07-05T22:45:39.902828",
     "status": "completed"
    },
    "tags": []
   },
   "outputs": [
    {
     "data": {
      "text/plain": [
       "array([' Germany', ' New Zealand', ' Sweden', ' USA', 'Australia',\n",
       "       'Austria', 'Canada', 'China', 'Finland', 'France', 'Greece',\n",
       "       'HongKong', 'Ireland', 'Italy', 'Japan', 'Macau', 'Malaysia',\n",
       "       'Mauritius', 'Netherland', 'New Zealand', 'Norway', 'Pakistan',\n",
       "       'Portugal', 'Russian Federation', 'Saudi Arabia', 'Scotland',\n",
       "       'Singapore', 'South Korea', 'SouthKorea', 'Spain', 'Sweden',\n",
       "       'Thailand', 'Turkey', 'UK', 'USA', 'USofA', 'Urbana', 'germany'],\n",
       "      dtype=object)"
      ]
     },
     "execution_count": 3,
     "metadata": {},
     "output_type": "execute_result"
    }
   ],
   "source": [
    "# get all the unique values in the 'Country' column\n",
    "countries = df['Country'].unique()\n",
    "\n",
    "# sort them alphabetically and then take a closer look\n",
    "countries.sort()\n",
    "countries"
   ]
  },
  {
   "cell_type": "code",
   "execution_count": 4,
   "id": "1f023326",
   "metadata": {
    "execution": {
     "iopub.execute_input": "2022-07-05T22:45:39.941614Z",
     "iopub.status.busy": "2022-07-05T22:45:39.940501Z",
     "iopub.status.idle": "2022-07-05T22:45:39.950052Z",
     "shell.execute_reply": "2022-07-05T22:45:39.949288Z"
    },
    "papermill": {
     "duration": 0.01686,
     "end_time": "2022-07-05T22:45:39.952470",
     "exception": false,
     "start_time": "2022-07-05T22:45:39.935610",
     "status": "completed"
    },
    "tags": []
   },
   "outputs": [],
   "source": [
    "# convert to lower case\n",
    "df['Country'] = df['Country'].str.lower()\n",
    "# remove trailing white spaces\n",
    "df['Country'] = df['Country'].str.strip()"
   ]
  },
  {
   "cell_type": "code",
   "execution_count": 5,
   "id": "cd579f0f",
   "metadata": {
    "execution": {
     "iopub.execute_input": "2022-07-05T22:45:39.961429Z",
     "iopub.status.busy": "2022-07-05T22:45:39.961034Z",
     "iopub.status.idle": "2022-07-05T22:45:39.969458Z",
     "shell.execute_reply": "2022-07-05T22:45:39.968323Z"
    },
    "papermill": {
     "duration": 0.015523,
     "end_time": "2022-07-05T22:45:39.971763",
     "exception": false,
     "start_time": "2022-07-05T22:45:39.956240",
     "status": "completed"
    },
    "tags": []
   },
   "outputs": [
    {
     "data": {
      "text/plain": [
       "array(['australia', 'austria', 'canada', 'china', 'finland', 'france',\n",
       "       'germany', 'greece', 'hongkong', 'ireland', 'italy', 'japan',\n",
       "       'macau', 'malaysia', 'mauritius', 'netherland', 'new zealand',\n",
       "       'norway', 'pakistan', 'portugal', 'russian federation',\n",
       "       'saudi arabia', 'scotland', 'singapore', 'south korea',\n",
       "       'southkorea', 'spain', 'sweden', 'thailand', 'turkey', 'uk',\n",
       "       'urbana', 'usa', 'usofa'], dtype=object)"
      ]
     },
     "execution_count": 5,
     "metadata": {},
     "output_type": "execute_result"
    }
   ],
   "source": [
    "# get all the unique values in the 'Country' column\n",
    "countries = df['Country'].unique()\n",
    "\n",
    "# sort them alphabetically and then take a closer look\n",
    "countries.sort()\n",
    "countries"
   ]
  },
  {
   "cell_type": "code",
   "execution_count": 6,
   "id": "9864d283",
   "metadata": {
    "execution": {
     "iopub.execute_input": "2022-07-05T22:45:39.980833Z",
     "iopub.status.busy": "2022-07-05T22:45:39.980484Z",
     "iopub.status.idle": "2022-07-05T22:45:39.989146Z",
     "shell.execute_reply": "2022-07-05T22:45:39.988064Z"
    },
    "papermill": {
     "duration": 0.016393,
     "end_time": "2022-07-05T22:45:39.992015",
     "exception": false,
     "start_time": "2022-07-05T22:45:39.975622",
     "status": "completed"
    },
    "tags": []
   },
   "outputs": [
    {
     "data": {
      "text/plain": [
       "[('usa', 100),\n",
       " ('usofa', 75),\n",
       " ('austria', 60),\n",
       " ('australia', 50),\n",
       " ('spain', 50),\n",
       " ('urbana', 44),\n",
       " ('uk', 40),\n",
       " ('malaysia', 36),\n",
       " ('pakistan', 36),\n",
       " ('portugal', 36)]"
      ]
     },
     "execution_count": 6,
     "metadata": {},
     "output_type": "execute_result"
    }
   ],
   "source": [
    "# get the top 10 closest matches to \"south korea\"\n",
    "matches = fuzzywuzzy.process.extract(\"usa\", countries, limit=10, scorer=fuzzywuzzy.fuzz.token_sort_ratio)\n",
    "\n",
    "# take a look at them\n",
    "matches"
   ]
  },
  {
   "cell_type": "code",
   "execution_count": 7,
   "id": "7ef51bcf",
   "metadata": {
    "execution": {
     "iopub.execute_input": "2022-07-05T22:45:40.005886Z",
     "iopub.status.busy": "2022-07-05T22:45:40.005254Z",
     "iopub.status.idle": "2022-07-05T22:45:40.016237Z",
     "shell.execute_reply": "2022-07-05T22:45:40.015460Z"
    },
    "papermill": {
     "duration": 0.020889,
     "end_time": "2022-07-05T22:45:40.018980",
     "exception": false,
     "start_time": "2022-07-05T22:45:39.998091",
     "status": "completed"
    },
    "tags": []
   },
   "outputs": [],
   "source": [
    "# function to replace rows in the provided column of the provided dataframe\n",
    "# that match the provided string above the provided ratio with the provided string\n",
    "def replace_matches_in_column(df, column, string_to_match, min_ratio = 74):\n",
    "    # get a list of unique strings\n",
    "    strings = df[column].unique()\n",
    "    \n",
    "    # get the top 10 closest matches to our input string\n",
    "    matches = fuzzywuzzy.process.extract(string_to_match, strings, \n",
    "                                         limit=10, scorer=fuzzywuzzy.fuzz.token_sort_ratio)\n",
    "\n",
    "    # only get matches with a ratio > 90\n",
    "    close_matches = [matches[0] for matches in matches if matches[1] >= min_ratio]\n",
    "\n",
    "    # get the rows of all the close matches in our dataframe\n",
    "    rows_with_matches = df[column].isin(close_matches)\n",
    "\n",
    "    # replace all rows with close matches with the input matches \n",
    "    df.loc[rows_with_matches, column] = string_to_match\n",
    "    \n",
    "    # let us know the function's done\n",
    "    print(\"All done!\")"
   ]
  },
  {
   "cell_type": "code",
   "execution_count": 8,
   "id": "5151ddec",
   "metadata": {
    "execution": {
     "iopub.execute_input": "2022-07-05T22:45:40.031962Z",
     "iopub.status.busy": "2022-07-05T22:45:40.031254Z",
     "iopub.status.idle": "2022-07-05T22:45:40.041819Z",
     "shell.execute_reply": "2022-07-05T22:45:40.040017Z"
    },
    "papermill": {
     "duration": 0.019823,
     "end_time": "2022-07-05T22:45:40.044561",
     "exception": false,
     "start_time": "2022-07-05T22:45:40.024738",
     "status": "completed"
    },
    "tags": []
   },
   "outputs": [
    {
     "name": "stdout",
     "output_type": "stream",
     "text": [
      "All done!\n"
     ]
    }
   ],
   "source": [
    "# use the function we just wrote to replace close matches to \"south korea\" with \"south korea\"\n",
    "replace_matches_in_column(df=df, column='Country', string_to_match=\"usa\")"
   ]
  },
  {
   "cell_type": "code",
   "execution_count": 9,
   "id": "29fd1b4c",
   "metadata": {
    "execution": {
     "iopub.execute_input": "2022-07-05T22:45:40.055322Z",
     "iopub.status.busy": "2022-07-05T22:45:40.054598Z",
     "iopub.status.idle": "2022-07-05T22:45:40.061649Z",
     "shell.execute_reply": "2022-07-05T22:45:40.060565Z"
    },
    "papermill": {
     "duration": 0.015074,
     "end_time": "2022-07-05T22:45:40.063929",
     "exception": false,
     "start_time": "2022-07-05T22:45:40.048855",
     "status": "completed"
    },
    "tags": []
   },
   "outputs": [
    {
     "data": {
      "text/plain": [
       "array(['australia', 'austria', 'canada', 'china', 'finland', 'france',\n",
       "       'germany', 'greece', 'hongkong', 'ireland', 'italy', 'japan',\n",
       "       'macau', 'malaysia', 'mauritius', 'netherland', 'new zealand',\n",
       "       'norway', 'pakistan', 'portugal', 'russian federation',\n",
       "       'saudi arabia', 'scotland', 'singapore', 'south korea',\n",
       "       'southkorea', 'spain', 'sweden', 'thailand', 'turkey', 'uk',\n",
       "       'urbana', 'usa'], dtype=object)"
      ]
     },
     "execution_count": 9,
     "metadata": {},
     "output_type": "execute_result"
    }
   ],
   "source": [
    "# get all the unique values in the 'Country' column\n",
    "countries = df['Country'].unique()\n",
    "\n",
    "# sort them alphabetically and then take a closer look\n",
    "countries.sort()\n",
    "countries"
   ]
  },
  {
   "cell_type": "code",
   "execution_count": null,
   "id": "fe780044",
   "metadata": {
    "papermill": {
     "duration": 0.004126,
     "end_time": "2022-07-05T22:45:40.072582",
     "exception": false,
     "start_time": "2022-07-05T22:45:40.068456",
     "status": "completed"
    },
    "tags": []
   },
   "outputs": [],
   "source": []
  },
  {
   "cell_type": "code",
   "execution_count": null,
   "id": "b8b2f978",
   "metadata": {
    "papermill": {
     "duration": 0.004081,
     "end_time": "2022-07-05T22:45:40.081130",
     "exception": false,
     "start_time": "2022-07-05T22:45:40.077049",
     "status": "completed"
    },
    "tags": []
   },
   "outputs": [],
   "source": []
  }
 ],
 "metadata": {
  "kernelspec": {
   "display_name": "Python 3",
   "language": "python",
   "name": "python3"
  },
  "language_info": {
   "codemirror_mode": {
    "name": "ipython",
    "version": 3
   },
   "file_extension": ".py",
   "mimetype": "text/x-python",
   "name": "python",
   "nbconvert_exporter": "python",
   "pygments_lexer": "ipython3",
   "version": "3.7.12"
  },
  "papermill": {
   "default_parameters": {},
   "duration": 12.044699,
   "end_time": "2022-07-05T22:45:40.806236",
   "environment_variables": {},
   "exception": null,
   "input_path": "__notebook__.ipynb",
   "output_path": "__notebook__.ipynb",
   "parameters": {},
   "start_time": "2022-07-05T22:45:28.761537",
   "version": "2.3.4"
  }
 },
 "nbformat": 4,
 "nbformat_minor": 5
}
